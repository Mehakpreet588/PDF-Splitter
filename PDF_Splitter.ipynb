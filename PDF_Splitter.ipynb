{
  "nbformat": 4,
  "nbformat_minor": 0,
  "metadata": {
    "colab": {
      "provenance": [],
      "include_colab_link": true
    },
    "kernelspec": {
      "name": "python3",
      "display_name": "Python 3"
    },
    "language_info": {
      "name": "python"
    }
  },
  "cells": [
    {
      "cell_type": "markdown",
      "metadata": {
        "id": "view-in-github",
        "colab_type": "text"
      },
      "source": [
        "<a href=\"https://colab.research.google.com/github/Mehakpreet588/PDF-Splitter/blob/main/PDF_Splitter.ipynb\" target=\"_parent\"><img src=\"https://colab.research.google.com/assets/colab-badge.svg\" alt=\"Open In Colab\"/></a>"
      ]
    },
    {
      "cell_type": "code",
      "execution_count": 1,
      "metadata": {
        "colab": {
          "base_uri": "https://localhost:8080/"
        },
        "id": "gtpWXzgUTf87",
        "outputId": "24307704-d2f6-4b64-9ac8-cf538af3da21"
      },
      "outputs": [
        {
          "output_type": "stream",
          "name": "stdout",
          "text": [
            "Collecting PyPDF2\n",
            "  Downloading pypdf2-3.0.1-py3-none-any.whl (232 kB)\n",
            "\u001b[2K     \u001b[90m━━━━━━━━━━━━━━━━━━━━━━━━━━━━━━━━━━━━━━━━\u001b[0m \u001b[32m232.6/232.6 kB\u001b[0m \u001b[31m1.7 MB/s\u001b[0m eta \u001b[36m0:00:00\u001b[0m\n",
            "\u001b[?25hInstalling collected packages: PyPDF2\n",
            "Successfully installed PyPDF2-3.0.1\n"
          ]
        }
      ],
      "source": [
        "!pip install PyPDF2"
      ]
    },
    {
      "cell_type": "code",
      "source": [
        "import os\n",
        "from PyPDF2 import PdfReader, PdfWriter\n",
        "\n",
        "def split_pdf(input_pdf, output_dir, split_page):\n",
        "    if not os.path.exists(output_dir):\n",
        "        os.makedirs(output_dir)\n",
        "\n",
        "    pdf = PdfReader(open(input_pdf, \"rb\"))\n",
        "    total_pages = len(pdf.pages)\n",
        "\n",
        "    if split_page < 1 or split_page >= total_pages:\n",
        "        raise ValueError(\"Split page number must be between 1 and the total number of pages minus one.\")\n",
        "\n",
        "    part1_writer = PdfWriter()\n",
        "    part2_writer = PdfWriter()\n",
        "\n",
        "    for page_num in range(total_pages):\n",
        "        if page_num < split_page:\n",
        "            part1_writer.add_page(pdf.pages[page_num])\n",
        "        else:\n",
        "            part2_writer.add_page(pdf.pages[page_num])\n",
        "\n",
        "    # Save the two parts\n",
        "    part1_filename = os.path.join(output_dir, 'part1.pdf')\n",
        "    part2_filename = os.path.join(output_dir, 'part2.pdf')\n",
        "\n",
        "    with open(part1_filename, 'wb') as part1_pdf:\n",
        "        part1_writer.write(part1_pdf)\n",
        "\n",
        "    with open(part2_filename, 'wb') as part2_pdf:\n",
        "        part2_writer.write(part2_pdf)\n",
        "\n",
        "    print(f'Created: {part1_filename}')\n",
        "    print(f'Created: {part2_filename}')\n",
        "\n",
        "if __name__ == \"__main__\":\n",
        "    input_pdf = '/content/Research Paper.pdf'  # Replace with the path to your input PDF file\n",
        "    output_dir = '/content/ouput'  # Replace with the directory where you want to save the output PDFs\n",
        "    split_page = int(input(\"Enter the page number where you want to split the PDF: \"))\n",
        "    split_pdf(input_pdf, output_dir, split_page)\n"
      ],
      "metadata": {
        "colab": {
          "base_uri": "https://localhost:8080/"
        },
        "id": "GBkQijI1Tjum",
        "outputId": "10de1664-ea7e-4b0e-a7b1-e436281d4d06"
      },
      "execution_count": 3,
      "outputs": [
        {
          "output_type": "stream",
          "name": "stdout",
          "text": [
            "Enter the page number where you want to split the PDF: 3\n",
            "Created: /content/ouput/part1.pdf\n",
            "Created: /content/ouput/part2.pdf\n"
          ]
        }
      ]
    },
    {
      "cell_type": "markdown",
      "source": [
        "H.W: Split every single page of the pdf and save into new pdf."
      ],
      "metadata": {
        "id": "45nZ9C-6WFNq"
      }
    },
    {
      "cell_type": "code",
      "source": [
        "# Install PyPDF2\n",
        "!pip install PyPDF2\n",
        "\n",
        "# Import necessary libraries\n",
        "import PyPDF2\n",
        "from PyPDF2 import PdfWriter, PdfReader\n",
        "import os\n",
        "\n",
        "# Create a directory to save the split PDFs\n",
        "output_dir = '/content/split_pdfs'\n",
        "os.makedirs(output_dir, exist_ok=True)\n",
        "\n",
        "# Path to the uploaded PDF file\n",
        "input_pdf_path = '/content/Research Paper.pdf'\n",
        "\n",
        "# Open the input PDF\n",
        "input_pdf = PdfReader(input_pdf_path)\n",
        "\n",
        "# Loop through all the pages and save each one as a separate PDF\n",
        "for i in range(len(input_pdf.pages)):\n",
        "    output_pdf = PdfWriter()\n",
        "    output_pdf.add_page(input_pdf.pages[i])\n",
        "\n",
        "    output_pdf_path = os.path.join(output_dir, f'page_{i+1}.pdf')\n",
        "    with open(output_pdf_path, 'wb') as output_file:\n",
        "        output_pdf.write(output_file)\n",
        "\n",
        "    print(f'Saved: {output_pdf_path}')\n"
      ],
      "metadata": {
        "colab": {
          "base_uri": "https://localhost:8080/"
        },
        "id": "bNO0eT-f_0fj",
        "outputId": "60f2b2a4-3cde-4ed6-880f-ff6da68e0d0a"
      },
      "execution_count": 5,
      "outputs": [
        {
          "output_type": "stream",
          "name": "stdout",
          "text": [
            "Requirement already satisfied: PyPDF2 in /usr/local/lib/python3.10/dist-packages (3.0.1)\n",
            "Saved: /content/split_pdfs/page_1.pdf\n",
            "Saved: /content/split_pdfs/page_2.pdf\n",
            "Saved: /content/split_pdfs/page_3.pdf\n",
            "Saved: /content/split_pdfs/page_4.pdf\n",
            "Saved: /content/split_pdfs/page_5.pdf\n",
            "Saved: /content/split_pdfs/page_6.pdf\n",
            "Saved: /content/split_pdfs/page_7.pdf\n",
            "Saved: /content/split_pdfs/page_8.pdf\n",
            "Saved: /content/split_pdfs/page_9.pdf\n",
            "Saved: /content/split_pdfs/page_10.pdf\n",
            "Saved: /content/split_pdfs/page_11.pdf\n"
          ]
        }
      ]
    }
  ]
}